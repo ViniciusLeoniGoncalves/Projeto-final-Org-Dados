{
 "cells": [
  {
   "cell_type": "markdown",
   "metadata": {},
   "source": [
    "# Trabalho Final - Análise e Visualização de Dados\n",
    "Análise baseada no dataset: [Mobile Device Usage and User Behavior Dataset](https://www.kaggle.com/datasets/valakhorasani/mobile-device-usage-and-user-behavior-dataset).\n",
    "- Eduardo Penedo - 120043223;\n",
    "- João Victor Borges - 121064604;\n",
    "- Vinicius Leoni - 121083446;\n",
    "- Vítor Ambrizzi - 121059455."
   ]
  },
  {
   "cell_type": "markdown",
   "metadata": {},
   "source": [
    "## Importando bibliotecas\n",
    "Pandas para a manipulação dos dados e Matplotlib para gerar gráficos que ilustrem os resultados das análises."
   ]
  },
  {
   "cell_type": "code",
   "execution_count": 3,
   "metadata": {
    "colab": {
     "base_uri": "https://localhost:8080/",
     "height": 428
    },
    "id": "3_srbSeLR5cP",
    "outputId": "fbd60a4e-6784-4936-9045-b49d5bce09ec"
   },
   "outputs": [],
   "source": [
    "import pandas as pd\n",
    "import matplotlib.pyplot as plt"
   ]
  },
  {
   "cell_type": "markdown",
   "metadata": {},
   "source": [
    "## Leitura e Exploração Inicial"
   ]
  },
  {
   "cell_type": "markdown",
   "metadata": {},
   "source": [
    "### Leitura do dataset escolhido\n",
    "Transformando o dataset escolhido em dataframe e guadando na variável `df`."
   ]
  },
  {
   "cell_type": "code",
   "execution_count": null,
   "metadata": {},
   "outputs": [
    {
     "data": {
      "text/html": [
       "<div>\n",
       "<style scoped>\n",
       "    .dataframe tbody tr th:only-of-type {\n",
       "        vertical-align: middle;\n",
       "    }\n",
       "\n",
       "    .dataframe tbody tr th {\n",
       "        vertical-align: top;\n",
       "    }\n",
       "\n",
       "    .dataframe thead th {\n",
       "        text-align: right;\n",
       "    }\n",
       "</style>\n",
       "<table border=\"1\" class=\"dataframe\">\n",
       "  <thead>\n",
       "    <tr style=\"text-align: right;\">\n",
       "      <th></th>\n",
       "      <th>User ID</th>\n",
       "      <th>Device Model</th>\n",
       "      <th>Operating System</th>\n",
       "      <th>App Usage Time (min/day)</th>\n",
       "      <th>Screen On Time (hours/day)</th>\n",
       "      <th>Battery Drain (mAh/day)</th>\n",
       "      <th>Number of Apps Installed</th>\n",
       "      <th>Data Usage (MB/day)</th>\n",
       "      <th>Age</th>\n",
       "      <th>Gender</th>\n",
       "      <th>User Behavior Class</th>\n",
       "    </tr>\n",
       "  </thead>\n",
       "  <tbody>\n",
       "    <tr>\n",
       "      <th>0</th>\n",
       "      <td>1</td>\n",
       "      <td>Google Pixel 5</td>\n",
       "      <td>Android</td>\n",
       "      <td>393</td>\n",
       "      <td>6.4</td>\n",
       "      <td>1872</td>\n",
       "      <td>67</td>\n",
       "      <td>1122</td>\n",
       "      <td>40</td>\n",
       "      <td>Male</td>\n",
       "      <td>4</td>\n",
       "    </tr>\n",
       "    <tr>\n",
       "      <th>1</th>\n",
       "      <td>2</td>\n",
       "      <td>OnePlus 9</td>\n",
       "      <td>Android</td>\n",
       "      <td>268</td>\n",
       "      <td>4.7</td>\n",
       "      <td>1331</td>\n",
       "      <td>42</td>\n",
       "      <td>944</td>\n",
       "      <td>47</td>\n",
       "      <td>Female</td>\n",
       "      <td>3</td>\n",
       "    </tr>\n",
       "    <tr>\n",
       "      <th>2</th>\n",
       "      <td>3</td>\n",
       "      <td>Xiaomi Mi 11</td>\n",
       "      <td>Android</td>\n",
       "      <td>154</td>\n",
       "      <td>4.0</td>\n",
       "      <td>761</td>\n",
       "      <td>32</td>\n",
       "      <td>322</td>\n",
       "      <td>42</td>\n",
       "      <td>Male</td>\n",
       "      <td>2</td>\n",
       "    </tr>\n",
       "    <tr>\n",
       "      <th>3</th>\n",
       "      <td>4</td>\n",
       "      <td>Google Pixel 5</td>\n",
       "      <td>Android</td>\n",
       "      <td>239</td>\n",
       "      <td>4.8</td>\n",
       "      <td>1676</td>\n",
       "      <td>56</td>\n",
       "      <td>871</td>\n",
       "      <td>20</td>\n",
       "      <td>Male</td>\n",
       "      <td>3</td>\n",
       "    </tr>\n",
       "    <tr>\n",
       "      <th>4</th>\n",
       "      <td>5</td>\n",
       "      <td>iPhone 12</td>\n",
       "      <td>iOS</td>\n",
       "      <td>187</td>\n",
       "      <td>4.3</td>\n",
       "      <td>1367</td>\n",
       "      <td>58</td>\n",
       "      <td>988</td>\n",
       "      <td>31</td>\n",
       "      <td>Female</td>\n",
       "      <td>3</td>\n",
       "    </tr>\n",
       "  </tbody>\n",
       "</table>\n",
       "</div>"
      ],
      "text/plain": [
       "   User ID    Device Model Operating System  App Usage Time (min/day)  \\\n",
       "0        1  Google Pixel 5          Android                       393   \n",
       "1        2       OnePlus 9          Android                       268   \n",
       "2        3    Xiaomi Mi 11          Android                       154   \n",
       "3        4  Google Pixel 5          Android                       239   \n",
       "4        5       iPhone 12              iOS                       187   \n",
       "\n",
       "   Screen On Time (hours/day)  Battery Drain (mAh/day)  \\\n",
       "0                         6.4                     1872   \n",
       "1                         4.7                     1331   \n",
       "2                         4.0                      761   \n",
       "3                         4.8                     1676   \n",
       "4                         4.3                     1367   \n",
       "\n",
       "   Number of Apps Installed  Data Usage (MB/day)  Age  Gender  \\\n",
       "0                        67                 1122   40    Male   \n",
       "1                        42                  944   47  Female   \n",
       "2                        32                  322   42    Male   \n",
       "3                        56                  871   20    Male   \n",
       "4                        58                  988   31  Female   \n",
       "\n",
       "   User Behavior Class  \n",
       "0                    4  \n",
       "1                    3  \n",
       "2                    2  \n",
       "3                    3  \n",
       "4                    3  "
      ]
     },
     "execution_count": 5,
     "metadata": {},
     "output_type": "execute_result"
    }
   ],
   "source": [
    "df = pd.read_csv('../dataset/mobile_device_usage.csv')\n",
    "df.head()   # método head() mostra as 5 primeiras linhas do dataset"
   ]
  },
  {
   "cell_type": "markdown",
   "metadata": {},
   "source": [
    "### Exploração Inicial\n",
    "O Dataset parece estar correto. A próxima etapa é realizar uma análise exploratória e entender as principais características dos dados."
   ]
  },
  {
   "cell_type": "code",
   "execution_count": 8,
   "metadata": {},
   "outputs": [
    {
     "data": {
      "text/plain": [
       "(700, 11)"
      ]
     },
     "execution_count": 8,
     "metadata": {},
     "output_type": "execute_result"
    }
   ],
   "source": [
    "df.shape    # Quantidade de linhas x colunas"
   ]
  },
  {
   "cell_type": "code",
   "execution_count": 14,
   "metadata": {},
   "outputs": [
    {
     "name": "stdout",
     "output_type": "stream",
     "text": [
      "<class 'pandas.core.frame.DataFrame'>\n",
      "RangeIndex: 700 entries, 0 to 699\n",
      "Data columns (total 11 columns):\n",
      " #   Column                      Non-Null Count  Dtype  \n",
      "---  ------                      --------------  -----  \n",
      " 0   User ID                     700 non-null    int64  \n",
      " 1   Device Model                700 non-null    object \n",
      " 2   Operating System            700 non-null    object \n",
      " 3   App Usage Time (min/day)    700 non-null    int64  \n",
      " 4   Screen On Time (hours/day)  700 non-null    float64\n",
      " 5   Battery Drain (mAh/day)     700 non-null    int64  \n",
      " 6   Number of Apps Installed    700 non-null    int64  \n",
      " 7   Data Usage (MB/day)         700 non-null    int64  \n",
      " 8   Age                         700 non-null    int64  \n",
      " 9   Gender                      700 non-null    object \n",
      " 10  User Behavior Class         700 non-null    int64  \n",
      "dtypes: float64(1), int64(7), object(3)\n",
      "memory usage: 60.3+ KB\n"
     ]
    }
   ],
   "source": [
    "df.info()   # Verifico os tipos de dados das colunas do dataset"
   ]
  },
  {
   "cell_type": "code",
   "execution_count": 19,
   "metadata": {},
   "outputs": [
    {
     "data": {
      "text/plain": [
       "User ID                        350.500000\n",
       "App Usage Time (min/day)       271.128571\n",
       "Screen On Time (hours/day)       5.272714\n",
       "Battery Drain (mAh/day)       1525.158571\n",
       "Number of Apps Installed        50.681429\n",
       "Data Usage (MB/day)            929.742857\n",
       "Age                             38.482857\n",
       "User Behavior Class              2.990000\n",
       "dtype: float64"
      ]
     },
     "execution_count": 19,
     "metadata": {},
     "output_type": "execute_result"
    }
   ],
   "source": [
    "df.mean(numeric_only = True)    # Cálculo das médias das colunas numéricas"
   ]
  },
  {
   "cell_type": "code",
   "execution_count": 22,
   "metadata": {},
   "outputs": [
    {
     "data": {
      "text/plain": [
       "User ID                        350.5\n",
       "App Usage Time (min/day)       227.5\n",
       "Screen On Time (hours/day)       4.9\n",
       "Battery Drain (mAh/day)       1502.5\n",
       "Number of Apps Installed        49.0\n",
       "Data Usage (MB/day)            823.5\n",
       "Age                             38.0\n",
       "User Behavior Class              3.0\n",
       "dtype: float64"
      ]
     },
     "execution_count": 22,
     "metadata": {},
     "output_type": "execute_result"
    }
   ],
   "source": [
    "df.median(numeric_only = True)  # Cálculo das médianas das colunas numéricas"
   ]
  },
  {
   "cell_type": "markdown",
   "metadata": {},
   "source": [
    "Esses resultados (médias e medianas) são duas das principais características do dataset, e juntos permitem avaliar se existem valores muito discrepantes (possíveis outliers)."
   ]
  },
  {
   "cell_type": "code",
   "execution_count": 26,
   "metadata": {},
   "outputs": [
    {
     "data": {
      "text/plain": [
       "User ID                       False\n",
       "Device Model                  False\n",
       "Operating System              False\n",
       "App Usage Time (min/day)      False\n",
       "Screen On Time (hours/day)    False\n",
       "Battery Drain (mAh/day)       False\n",
       "Number of Apps Installed      False\n",
       "Data Usage (MB/day)           False\n",
       "Age                           False\n",
       "Gender                        False\n",
       "User Behavior Class           False\n",
       "dtype: bool"
      ]
     },
     "execution_count": 26,
     "metadata": {},
     "output_type": "execute_result"
    }
   ],
   "source": [
    "df.isna().any() # Verifico se existe algum valor ausente ou nulo"
   ]
  },
  {
   "cell_type": "markdown",
   "metadata": {},
   "source": [
    "Esse resultado me permite identificar que para as 11 colunas presentes no dataset, nenhuma possui valores nulos (que não possam ser analisados)"
   ]
  },
  {
   "cell_type": "code",
   "execution_count": 28,
   "metadata": {},
   "outputs": [
    {
     "data": {
      "text/html": [
       "<div>\n",
       "<style scoped>\n",
       "    .dataframe tbody tr th:only-of-type {\n",
       "        vertical-align: middle;\n",
       "    }\n",
       "\n",
       "    .dataframe tbody tr th {\n",
       "        vertical-align: top;\n",
       "    }\n",
       "\n",
       "    .dataframe thead th {\n",
       "        text-align: right;\n",
       "    }\n",
       "</style>\n",
       "<table border=\"1\" class=\"dataframe\">\n",
       "  <thead>\n",
       "    <tr style=\"text-align: right;\">\n",
       "      <th></th>\n",
       "      <th>User ID</th>\n",
       "      <th>App Usage Time (min/day)</th>\n",
       "      <th>Screen On Time (hours/day)</th>\n",
       "      <th>Battery Drain (mAh/day)</th>\n",
       "      <th>Number of Apps Installed</th>\n",
       "      <th>Data Usage (MB/day)</th>\n",
       "      <th>Age</th>\n",
       "      <th>User Behavior Class</th>\n",
       "    </tr>\n",
       "  </thead>\n",
       "  <tbody>\n",
       "    <tr>\n",
       "      <th>count</th>\n",
       "      <td>700.00000</td>\n",
       "      <td>700.000000</td>\n",
       "      <td>700.000000</td>\n",
       "      <td>700.000000</td>\n",
       "      <td>700.000000</td>\n",
       "      <td>700.000000</td>\n",
       "      <td>700.000000</td>\n",
       "      <td>700.000000</td>\n",
       "    </tr>\n",
       "    <tr>\n",
       "      <th>mean</th>\n",
       "      <td>350.50000</td>\n",
       "      <td>271.128571</td>\n",
       "      <td>5.272714</td>\n",
       "      <td>1525.158571</td>\n",
       "      <td>50.681429</td>\n",
       "      <td>929.742857</td>\n",
       "      <td>38.482857</td>\n",
       "      <td>2.990000</td>\n",
       "    </tr>\n",
       "    <tr>\n",
       "      <th>std</th>\n",
       "      <td>202.21688</td>\n",
       "      <td>177.199484</td>\n",
       "      <td>3.068584</td>\n",
       "      <td>819.136414</td>\n",
       "      <td>26.943324</td>\n",
       "      <td>640.451729</td>\n",
       "      <td>12.012916</td>\n",
       "      <td>1.401476</td>\n",
       "    </tr>\n",
       "    <tr>\n",
       "      <th>min</th>\n",
       "      <td>1.00000</td>\n",
       "      <td>30.000000</td>\n",
       "      <td>1.000000</td>\n",
       "      <td>302.000000</td>\n",
       "      <td>10.000000</td>\n",
       "      <td>102.000000</td>\n",
       "      <td>18.000000</td>\n",
       "      <td>1.000000</td>\n",
       "    </tr>\n",
       "    <tr>\n",
       "      <th>25%</th>\n",
       "      <td>175.75000</td>\n",
       "      <td>113.250000</td>\n",
       "      <td>2.500000</td>\n",
       "      <td>722.250000</td>\n",
       "      <td>26.000000</td>\n",
       "      <td>373.000000</td>\n",
       "      <td>28.000000</td>\n",
       "      <td>2.000000</td>\n",
       "    </tr>\n",
       "    <tr>\n",
       "      <th>50%</th>\n",
       "      <td>350.50000</td>\n",
       "      <td>227.500000</td>\n",
       "      <td>4.900000</td>\n",
       "      <td>1502.500000</td>\n",
       "      <td>49.000000</td>\n",
       "      <td>823.500000</td>\n",
       "      <td>38.000000</td>\n",
       "      <td>3.000000</td>\n",
       "    </tr>\n",
       "    <tr>\n",
       "      <th>75%</th>\n",
       "      <td>525.25000</td>\n",
       "      <td>434.250000</td>\n",
       "      <td>7.400000</td>\n",
       "      <td>2229.500000</td>\n",
       "      <td>74.000000</td>\n",
       "      <td>1341.000000</td>\n",
       "      <td>49.000000</td>\n",
       "      <td>4.000000</td>\n",
       "    </tr>\n",
       "    <tr>\n",
       "      <th>max</th>\n",
       "      <td>700.00000</td>\n",
       "      <td>598.000000</td>\n",
       "      <td>12.000000</td>\n",
       "      <td>2993.000000</td>\n",
       "      <td>99.000000</td>\n",
       "      <td>2497.000000</td>\n",
       "      <td>59.000000</td>\n",
       "      <td>5.000000</td>\n",
       "    </tr>\n",
       "  </tbody>\n",
       "</table>\n",
       "</div>"
      ],
      "text/plain": [
       "         User ID  App Usage Time (min/day)  Screen On Time (hours/day)  \\\n",
       "count  700.00000                700.000000                  700.000000   \n",
       "mean   350.50000                271.128571                    5.272714   \n",
       "std    202.21688                177.199484                    3.068584   \n",
       "min      1.00000                 30.000000                    1.000000   \n",
       "25%    175.75000                113.250000                    2.500000   \n",
       "50%    350.50000                227.500000                    4.900000   \n",
       "75%    525.25000                434.250000                    7.400000   \n",
       "max    700.00000                598.000000                   12.000000   \n",
       "\n",
       "       Battery Drain (mAh/day)  Number of Apps Installed  Data Usage (MB/day)  \\\n",
       "count               700.000000                700.000000           700.000000   \n",
       "mean               1525.158571                 50.681429           929.742857   \n",
       "std                 819.136414                 26.943324           640.451729   \n",
       "min                 302.000000                 10.000000           102.000000   \n",
       "25%                 722.250000                 26.000000           373.000000   \n",
       "50%                1502.500000                 49.000000           823.500000   \n",
       "75%                2229.500000                 74.000000          1341.000000   \n",
       "max                2993.000000                 99.000000          2497.000000   \n",
       "\n",
       "              Age  User Behavior Class  \n",
       "count  700.000000           700.000000  \n",
       "mean    38.482857             2.990000  \n",
       "std     12.012916             1.401476  \n",
       "min     18.000000             1.000000  \n",
       "25%     28.000000             2.000000  \n",
       "50%     38.000000             3.000000  \n",
       "75%     49.000000             4.000000  \n",
       "max     59.000000             5.000000  "
      ]
     },
     "execution_count": 28,
     "metadata": {},
     "output_type": "execute_result"
    }
   ],
   "source": [
    "df.describe()   # Exibe informações sobre o meu dado agregado (somente para as colunas de dados numéricos)"
   ]
  },
  {
   "cell_type": "markdown",
   "metadata": {},
   "source": [
    "Esse resultado me permite confirmar as médias calculadas (mean) e a ausência de dados nulos (count), além de verificar a presença de outliers pautado na análise dos valores mínimos (min), máximos (max) e nos desvios-padrão (std).\n",
    "\n",
    "Aparentam não existir outliers."
   ]
  },
  {
   "cell_type": "code",
   "execution_count": 31,
   "metadata": {},
   "outputs": [
    {
     "data": {
      "text/html": [
       "<div>\n",
       "<style scoped>\n",
       "    .dataframe tbody tr th:only-of-type {\n",
       "        vertical-align: middle;\n",
       "    }\n",
       "\n",
       "    .dataframe tbody tr th {\n",
       "        vertical-align: top;\n",
       "    }\n",
       "\n",
       "    .dataframe thead th {\n",
       "        text-align: right;\n",
       "    }\n",
       "</style>\n",
       "<table border=\"1\" class=\"dataframe\">\n",
       "  <thead>\n",
       "    <tr style=\"text-align: right;\">\n",
       "      <th></th>\n",
       "      <th>User ID</th>\n",
       "      <th>App Usage Time (min/day)</th>\n",
       "      <th>Screen On Time (hours/day)</th>\n",
       "      <th>Battery Drain (mAh/day)</th>\n",
       "      <th>Number of Apps Installed</th>\n",
       "      <th>Data Usage (MB/day)</th>\n",
       "      <th>Age</th>\n",
       "      <th>User Behavior Class</th>\n",
       "    </tr>\n",
       "  </thead>\n",
       "  <tbody>\n",
       "    <tr>\n",
       "      <th>User ID</th>\n",
       "      <td>1.000000</td>\n",
       "      <td>-0.024957</td>\n",
       "      <td>-0.014287</td>\n",
       "      <td>-0.019377</td>\n",
       "      <td>-0.023914</td>\n",
       "      <td>-0.014527</td>\n",
       "      <td>0.045188</td>\n",
       "      <td>-0.016242</td>\n",
       "    </tr>\n",
       "    <tr>\n",
       "      <th>App Usage Time (min/day)</th>\n",
       "      <td>-0.024957</td>\n",
       "      <td>1.000000</td>\n",
       "      <td>0.950333</td>\n",
       "      <td>0.956385</td>\n",
       "      <td>0.955253</td>\n",
       "      <td>0.942308</td>\n",
       "      <td>0.004382</td>\n",
       "      <td>0.970498</td>\n",
       "    </tr>\n",
       "    <tr>\n",
       "      <th>Screen On Time (hours/day)</th>\n",
       "      <td>-0.014287</td>\n",
       "      <td>0.950333</td>\n",
       "      <td>1.000000</td>\n",
       "      <td>0.948983</td>\n",
       "      <td>0.946975</td>\n",
       "      <td>0.941322</td>\n",
       "      <td>0.017232</td>\n",
       "      <td>0.964581</td>\n",
       "    </tr>\n",
       "    <tr>\n",
       "      <th>Battery Drain (mAh/day)</th>\n",
       "      <td>-0.019377</td>\n",
       "      <td>0.956385</td>\n",
       "      <td>0.948983</td>\n",
       "      <td>1.000000</td>\n",
       "      <td>0.961853</td>\n",
       "      <td>0.932276</td>\n",
       "      <td>-0.002722</td>\n",
       "      <td>0.978587</td>\n",
       "    </tr>\n",
       "    <tr>\n",
       "      <th>Number of Apps Installed</th>\n",
       "      <td>-0.023914</td>\n",
       "      <td>0.955253</td>\n",
       "      <td>0.946975</td>\n",
       "      <td>0.961853</td>\n",
       "      <td>1.000000</td>\n",
       "      <td>0.934800</td>\n",
       "      <td>0.004034</td>\n",
       "      <td>0.981255</td>\n",
       "    </tr>\n",
       "    <tr>\n",
       "      <th>Data Usage (MB/day)</th>\n",
       "      <td>-0.014527</td>\n",
       "      <td>0.942308</td>\n",
       "      <td>0.941322</td>\n",
       "      <td>0.932276</td>\n",
       "      <td>0.934800</td>\n",
       "      <td>1.000000</td>\n",
       "      <td>0.003999</td>\n",
       "      <td>0.946734</td>\n",
       "    </tr>\n",
       "    <tr>\n",
       "      <th>Age</th>\n",
       "      <td>0.045188</td>\n",
       "      <td>0.004382</td>\n",
       "      <td>0.017232</td>\n",
       "      <td>-0.002722</td>\n",
       "      <td>0.004034</td>\n",
       "      <td>0.003999</td>\n",
       "      <td>1.000000</td>\n",
       "      <td>-0.000563</td>\n",
       "    </tr>\n",
       "    <tr>\n",
       "      <th>User Behavior Class</th>\n",
       "      <td>-0.016242</td>\n",
       "      <td>0.970498</td>\n",
       "      <td>0.964581</td>\n",
       "      <td>0.978587</td>\n",
       "      <td>0.981255</td>\n",
       "      <td>0.946734</td>\n",
       "      <td>-0.000563</td>\n",
       "      <td>1.000000</td>\n",
       "    </tr>\n",
       "  </tbody>\n",
       "</table>\n",
       "</div>"
      ],
      "text/plain": [
       "                             User ID  App Usage Time (min/day)  \\\n",
       "User ID                     1.000000                 -0.024957   \n",
       "App Usage Time (min/day)   -0.024957                  1.000000   \n",
       "Screen On Time (hours/day) -0.014287                  0.950333   \n",
       "Battery Drain (mAh/day)    -0.019377                  0.956385   \n",
       "Number of Apps Installed   -0.023914                  0.955253   \n",
       "Data Usage (MB/day)        -0.014527                  0.942308   \n",
       "Age                         0.045188                  0.004382   \n",
       "User Behavior Class        -0.016242                  0.970498   \n",
       "\n",
       "                            Screen On Time (hours/day)  \\\n",
       "User ID                                      -0.014287   \n",
       "App Usage Time (min/day)                      0.950333   \n",
       "Screen On Time (hours/day)                    1.000000   \n",
       "Battery Drain (mAh/day)                       0.948983   \n",
       "Number of Apps Installed                      0.946975   \n",
       "Data Usage (MB/day)                           0.941322   \n",
       "Age                                           0.017232   \n",
       "User Behavior Class                           0.964581   \n",
       "\n",
       "                            Battery Drain (mAh/day)  Number of Apps Installed  \\\n",
       "User ID                                   -0.019377                 -0.023914   \n",
       "App Usage Time (min/day)                   0.956385                  0.955253   \n",
       "Screen On Time (hours/day)                 0.948983                  0.946975   \n",
       "Battery Drain (mAh/day)                    1.000000                  0.961853   \n",
       "Number of Apps Installed                   0.961853                  1.000000   \n",
       "Data Usage (MB/day)                        0.932276                  0.934800   \n",
       "Age                                       -0.002722                  0.004034   \n",
       "User Behavior Class                        0.978587                  0.981255   \n",
       "\n",
       "                            Data Usage (MB/day)       Age  User Behavior Class  \n",
       "User ID                               -0.014527  0.045188            -0.016242  \n",
       "App Usage Time (min/day)               0.942308  0.004382             0.970498  \n",
       "Screen On Time (hours/day)             0.941322  0.017232             0.964581  \n",
       "Battery Drain (mAh/day)                0.932276 -0.002722             0.978587  \n",
       "Number of Apps Installed               0.934800  0.004034             0.981255  \n",
       "Data Usage (MB/day)                    1.000000  0.003999             0.946734  \n",
       "Age                                    0.003999  1.000000            -0.000563  \n",
       "User Behavior Class                    0.946734 -0.000563             1.000000  "
      ]
     },
     "execution_count": 31,
     "metadata": {},
     "output_type": "execute_result"
    }
   ],
   "source": [
    "df.corr(numeric_only = True)"
   ]
  },
  {
   "cell_type": "markdown",
   "metadata": {},
   "source": [
    "Esse resultado me permite entender as correlações entre duas colunas do dataset, e orientar a escolha de análises a serem desenvolvidas."
   ]
  },
  {
   "cell_type": "markdown",
   "metadata": {},
   "source": [
    "## Limpeza e Tratamento\n",
    "Lidando com valores ausentes, colunas desnecessárias ou qualquer inconsistência identificada."
   ]
  },
  {
   "cell_type": "markdown",
   "metadata": {},
   "source": [
    "Identifiquei que a primeira coluna \"User ID\" é redundante, e que não existe especificação dos significados dos valores da coluna \"User Behavior Class\", assim, ela não me significa nada e não será utilizada nas análises."
   ]
  },
  {
   "cell_type": "code",
   "execution_count": 32,
   "metadata": {},
   "outputs": [
    {
     "data": {
      "text/html": [
       "<div>\n",
       "<style scoped>\n",
       "    .dataframe tbody tr th:only-of-type {\n",
       "        vertical-align: middle;\n",
       "    }\n",
       "\n",
       "    .dataframe tbody tr th {\n",
       "        vertical-align: top;\n",
       "    }\n",
       "\n",
       "    .dataframe thead th {\n",
       "        text-align: right;\n",
       "    }\n",
       "</style>\n",
       "<table border=\"1\" class=\"dataframe\">\n",
       "  <thead>\n",
       "    <tr style=\"text-align: right;\">\n",
       "      <th></th>\n",
       "      <th>Device Model</th>\n",
       "      <th>Operating System</th>\n",
       "      <th>App Usage Time (min/day)</th>\n",
       "      <th>Screen On Time (hours/day)</th>\n",
       "      <th>Battery Drain (mAh/day)</th>\n",
       "      <th>Number of Apps Installed</th>\n",
       "      <th>Data Usage (MB/day)</th>\n",
       "      <th>Age</th>\n",
       "      <th>Gender</th>\n",
       "    </tr>\n",
       "  </thead>\n",
       "  <tbody>\n",
       "    <tr>\n",
       "      <th>0</th>\n",
       "      <td>Google Pixel 5</td>\n",
       "      <td>Android</td>\n",
       "      <td>393</td>\n",
       "      <td>6.4</td>\n",
       "      <td>1872</td>\n",
       "      <td>67</td>\n",
       "      <td>1122</td>\n",
       "      <td>40</td>\n",
       "      <td>Male</td>\n",
       "    </tr>\n",
       "    <tr>\n",
       "      <th>1</th>\n",
       "      <td>OnePlus 9</td>\n",
       "      <td>Android</td>\n",
       "      <td>268</td>\n",
       "      <td>4.7</td>\n",
       "      <td>1331</td>\n",
       "      <td>42</td>\n",
       "      <td>944</td>\n",
       "      <td>47</td>\n",
       "      <td>Female</td>\n",
       "    </tr>\n",
       "    <tr>\n",
       "      <th>2</th>\n",
       "      <td>Xiaomi Mi 11</td>\n",
       "      <td>Android</td>\n",
       "      <td>154</td>\n",
       "      <td>4.0</td>\n",
       "      <td>761</td>\n",
       "      <td>32</td>\n",
       "      <td>322</td>\n",
       "      <td>42</td>\n",
       "      <td>Male</td>\n",
       "    </tr>\n",
       "    <tr>\n",
       "      <th>3</th>\n",
       "      <td>Google Pixel 5</td>\n",
       "      <td>Android</td>\n",
       "      <td>239</td>\n",
       "      <td>4.8</td>\n",
       "      <td>1676</td>\n",
       "      <td>56</td>\n",
       "      <td>871</td>\n",
       "      <td>20</td>\n",
       "      <td>Male</td>\n",
       "    </tr>\n",
       "    <tr>\n",
       "      <th>4</th>\n",
       "      <td>iPhone 12</td>\n",
       "      <td>iOS</td>\n",
       "      <td>187</td>\n",
       "      <td>4.3</td>\n",
       "      <td>1367</td>\n",
       "      <td>58</td>\n",
       "      <td>988</td>\n",
       "      <td>31</td>\n",
       "      <td>Female</td>\n",
       "    </tr>\n",
       "  </tbody>\n",
       "</table>\n",
       "</div>"
      ],
      "text/plain": [
       "     Device Model Operating System  App Usage Time (min/day)  \\\n",
       "0  Google Pixel 5          Android                       393   \n",
       "1       OnePlus 9          Android                       268   \n",
       "2    Xiaomi Mi 11          Android                       154   \n",
       "3  Google Pixel 5          Android                       239   \n",
       "4       iPhone 12              iOS                       187   \n",
       "\n",
       "   Screen On Time (hours/day)  Battery Drain (mAh/day)  \\\n",
       "0                         6.4                     1872   \n",
       "1                         4.7                     1331   \n",
       "2                         4.0                      761   \n",
       "3                         4.8                     1676   \n",
       "4                         4.3                     1367   \n",
       "\n",
       "   Number of Apps Installed  Data Usage (MB/day)  Age  Gender  \n",
       "0                        67                 1122   40    Male  \n",
       "1                        42                  944   47  Female  \n",
       "2                        32                  322   42    Male  \n",
       "3                        56                  871   20    Male  \n",
       "4                        58                  988   31  Female  "
      ]
     },
     "execution_count": 32,
     "metadata": {},
     "output_type": "execute_result"
    }
   ],
   "source": [
    "df = df.drop([\"User ID\", \"User Behavior Class\"], axis = 1)  # Remoção das colunas desnecessárias\n",
    "df.head()"
   ]
  },
  {
   "cell_type": "markdown",
   "metadata": {},
   "source": [
    "Em seguida"
   ]
  },
  {
   "cell_type": "code",
   "execution_count": 33,
   "metadata": {},
   "outputs": [],
   "source": [
    "def detect_outliers(column):\n",
    "    Q1 = column.quantile(0.25)\n",
    "    Q3 = column.quantile(0.75)\n",
    "    IQR = Q3 - Q1\n",
    "    limite_inferior = Q1 - 1.5 * IQR\n",
    "    limite_superior = Q3 + 1.5 * IQR\n",
    "\n",
    "    outliers = column[(column < limite_inferior) | (column > limite_superior)]\n",
    "\n",
    "    return outliers"
   ]
  },
  {
   "cell_type": "code",
   "execution_count": 37,
   "metadata": {},
   "outputs": [
    {
     "data": {
      "text/plain": [
       "Index(['Device Model', 'Operating System', 'App Usage Time (min/day)',\n",
       "       'Screen On Time (hours/day)', 'Battery Drain (mAh/day)',\n",
       "       'Number of Apps Installed', 'Data Usage (MB/day)', 'Age', 'Gender'],\n",
       "      dtype='object')"
      ]
     },
     "execution_count": 37,
     "metadata": {},
     "output_type": "execute_result"
    }
   ],
   "source": [
    "df.columns"
   ]
  },
  {
   "cell_type": "code",
   "execution_count": 40,
   "metadata": {},
   "outputs": [
    {
     "name": "stdout",
     "output_type": "stream",
     "text": [
      "Outliers na coluna App Usage Time (min/day):\n",
      "Nenhum outlier encontrado.\n",
      "Outliers na coluna Screen On Time (hours/day):\n",
      "Nenhum outlier encontrado.\n",
      "Outliers na coluna Battery Drain (mAh/day):\n",
      "Nenhum outlier encontrado.\n",
      "Outliers na coluna Number of Apps Installed:\n",
      "Nenhum outlier encontrado.\n",
      "Outliers na coluna Data Usage (MB/day):\n",
      "Nenhum outlier encontrado.\n",
      "Outliers na coluna Age:\n",
      "Nenhum outlier encontrado.\n"
     ]
    }
   ],
   "source": [
    "columns = [\n",
    "    'App Usage Time (min/day)',\n",
    "    'Screen On Time (hours/day)',\n",
    "    'Battery Drain (mAh/day)',\n",
    "    'Number of Apps Installed',\n",
    "    'Data Usage (MB/day)',\n",
    "    'Age'\n",
    "    ]\n",
    "outliers = {}\n",
    "for col in columns:\n",
    "    outliers[col] = detect_outliers(df[col])\n",
    "\n",
    "for col, outlier_values in outliers.items():\n",
    "    print(f\"Outliers na coluna {col}:\")\n",
    "    print(outlier_values if not outlier_values.empty else \"Nenhum outlier encontrado.\")"
   ]
  },
  {
   "cell_type": "code",
   "execution_count": 19,
   "metadata": {},
   "outputs": [
    {
     "name": "stdout",
     "output_type": "stream",
     "text": [
      "<class 'pandas.core.frame.DataFrame'>\n",
      "RangeIndex: 700 entries, 0 to 699\n",
      "Data columns (total 9 columns):\n",
      " #   Column                      Non-Null Count  Dtype  \n",
      "---  ------                      --------------  -----  \n",
      " 0   Device Model                700 non-null    object \n",
      " 1   Operating System            700 non-null    object \n",
      " 2   App Usage Time (min/day)    700 non-null    int64  \n",
      " 3   Screen On Time (hours/day)  700 non-null    float64\n",
      " 4   Battery Drain (mAh/day)     700 non-null    int64  \n",
      " 5   Number of Apps Installed    700 non-null    int64  \n",
      " 6   Data Usage (MB/day)         700 non-null    int64  \n",
      " 7   Age                         700 non-null    int64  \n",
      " 8   Gender                      700 non-null    object \n",
      "dtypes: float64(1), int64(5), object(3)\n",
      "memory usage: 49.3+ KB\n"
     ]
    }
   ],
   "source": [
    "df.info()"
   ]
  },
  {
   "cell_type": "markdown",
   "metadata": {},
   "source": [
    "## Gerando as visualizações"
   ]
  },
  {
   "cell_type": "markdown",
   "metadata": {},
   "source": [
    "### Distribuição por sistema operacional"
   ]
  },
  {
   "cell_type": "code",
   "execution_count": 20,
   "metadata": {},
   "outputs": [
    {
     "data": {
      "text/plain": [
       "Operating System\n",
       "Android    554\n",
       "iOS        146\n",
       "Name: count, dtype: int64"
      ]
     },
     "execution_count": 20,
     "metadata": {},
     "output_type": "execute_result"
    }
   ],
   "source": [
    "# Contar ocorrências de cada sistema operacional\n",
    "os_counts = df[\"Operating System\"].value_counts()\n",
    "os_counts"
   ]
  },
  {
   "cell_type": "code",
   "execution_count": 21,
   "metadata": {},
   "outputs": [
    {
     "data": {
      "image/png": "[encoded data removed]",
      "text/plain": [
       "<Figure size 1000x600 with 1 Axes>"
      ]
     },
     "metadata": {},
     "output_type": "display_data"
    }
   ],
   "source": [
    "fig, ax = plt.subplots(figsize = (10, 6))\n",
    "\n",
    "ax.pie( # Configura o gráfico de pizza\n",
    "    os_counts.values,\n",
    "    labels = os_counts.index,\n",
    "    autopct = '%1.2f%%',\n",
    "    startangle = 90,\n",
    "    colors = [\"#66b3ff\", \"#ff9999\"]\n",
    ")\n",
    "\n",
    "# Personalizar o gráfico\n",
    "ax.axis('equal')    # Corrige o formato para um círculo\n",
    "plt.title(\"Distribuição de usuários por sistema operacional\")\n",
    "\n",
    "plt.show()"
   ]
  },
  {
   "cell_type": "markdown",
   "metadata": {},
   "source": [
    "### Média de consumo de bateria por dispositivo"
   ]
  },
  {
   "cell_type": "code",
   "execution_count": 22,
   "metadata": {
    "colab": {
     "base_uri": "https://localhost:8080/",
     "height": 504
    },
    "id": "dDRDyCVDczEm",
    "outputId": "fd2750c0-9051-4946-bc6b-a1f9b77c91b8"
   },
   "outputs": [
    {
     "data": {
      "text/html": [
       "<div>\n",
       "<style scoped>\n",
       "    .dataframe tbody tr th:only-of-type {\n",
       "        vertical-align: middle;\n",
       "    }\n",
       "\n",
       "    .dataframe tbody tr th {\n",
       "        vertical-align: top;\n",
       "    }\n",
       "\n",
       "    .dataframe thead th {\n",
       "        text-align: right;\n",
       "    }\n",
       "</style>\n",
       "<table border=\"1\" class=\"dataframe\">\n",
       "  <thead>\n",
       "    <tr style=\"text-align: right;\">\n",
       "      <th></th>\n",
       "      <th>Battery Drain (mAh/day)</th>\n",
       "    </tr>\n",
       "  </thead>\n",
       "  <tbody>\n",
       "    <tr>\n",
       "      <th>count</th>\n",
       "      <td>5.000000</td>\n",
       "    </tr>\n",
       "    <tr>\n",
       "      <th>mean</th>\n",
       "      <td>1524.497504</td>\n",
       "    </tr>\n",
       "    <tr>\n",
       "      <th>std</th>\n",
       "      <td>41.914452</td>\n",
       "    </tr>\n",
       "    <tr>\n",
       "      <th>min</th>\n",
       "      <td>1475.676056</td>\n",
       "    </tr>\n",
       "    <tr>\n",
       "      <th>25%</th>\n",
       "      <td>1504.571429</td>\n",
       "    </tr>\n",
       "    <tr>\n",
       "      <th>50%</th>\n",
       "      <td>1523.849624</td>\n",
       "    </tr>\n",
       "    <tr>\n",
       "      <th>75%</th>\n",
       "      <td>1528.876712</td>\n",
       "    </tr>\n",
       "    <tr>\n",
       "      <th>max</th>\n",
       "      <td>1589.513699</td>\n",
       "    </tr>\n",
       "  </tbody>\n",
       "</table>\n",
       "</div>"
      ],
      "text/plain": [
       "       Battery Drain (mAh/day)\n",
       "count                 5.000000\n",
       "mean               1524.497504\n",
       "std                  41.914452\n",
       "min                1475.676056\n",
       "25%                1504.571429\n",
       "50%                1523.849624\n",
       "75%                1528.876712\n",
       "max                1589.513699"
      ]
     },
     "execution_count": 22,
     "metadata": {},
     "output_type": "execute_result"
    }
   ],
   "source": [
    "# Calcular a média do consumo de bateria por modelo\n",
    "battery_drain_avg = df.groupby('Device Model')['Battery Drain (mAh/day)'].mean().reset_index()\n",
    "battery_drain_avg.describe()"
   ]
  },
  {
   "cell_type": "code",
   "execution_count": null,
   "metadata": {},
   "outputs": [
    {
     "data": {
      "image/png": "[encoded data removed]",
      "text/plain": [
       "<Figure size 1000x600 with 1 Axes>"
      ]
     },
     "metadata": {},
     "output_type": "display_data"
    }
   ],
   "source": [
    "fig, ax = plt.subplots(figsize = (10, 6))\n",
    "ax.bar( # Configura o grafico de barras\n",
    "    battery_drain_avg['Device Model'], \n",
    "    battery_drain_avg['Battery Drain (mAh/day)'], \n",
    "    color = ['#66b3ff', '#ff9999'],\n",
    "    width = 0.6\n",
    ")\n",
    "# Personalizar o gráfico\n",
    "plt.title(\"Média de consumo de bateria por dispositivo\")\n",
    "plt.xlabel(\"Dispositivos\")\n",
    "plt.ylabel(\"Média de consumo de bateria (mAh/dia)\")\n",
    "ax.set_ylim([min(battery_drain_avg['Battery Drain (mAh/day)']) - 50, max(battery_drain_avg['Battery Drain (mAh/day)']) + 50])   # Ajusta o intervalo do eixo y\n",
    "plt.xticks(rotation = 30) # Rotaciona os rótulos para melhor visualização\n",
    "plt.tight_layout()  # Ajusta o layout para evitar sobreposições\n",
    "\n",
    "plt.show()"
   ]
  },
  {
   "cell_type": "markdown",
   "metadata": {},
   "source": [
    "### Tempo de tela médio por idade"
   ]
  },
  {
   "cell_type": "code",
   "execution_count": 24,
   "metadata": {
    "colab": {
     "base_uri": "https://localhost:8080/",
     "height": 627
    },
    "id": "st6GFT04kc-1",
    "outputId": "873721b4-f17c-4b26-cbf4-fdf3a554462f"
   },
   "outputs": [
    {
     "data": {
      "text/html": [
       "<div>\n",
       "<style scoped>\n",
       "    .dataframe tbody tr th:only-of-type {\n",
       "        vertical-align: middle;\n",
       "    }\n",
       "\n",
       "    .dataframe tbody tr th {\n",
       "        vertical-align: top;\n",
       "    }\n",
       "\n",
       "    .dataframe thead th {\n",
       "        text-align: right;\n",
       "    }\n",
       "</style>\n",
       "<table border=\"1\" class=\"dataframe\">\n",
       "  <thead>\n",
       "    <tr style=\"text-align: right;\">\n",
       "      <th></th>\n",
       "      <th>Age</th>\n",
       "      <th>Screen On Time (hours/day)</th>\n",
       "    </tr>\n",
       "  </thead>\n",
       "  <tbody>\n",
       "    <tr>\n",
       "      <th>count</th>\n",
       "      <td>42.000000</td>\n",
       "      <td>42.000000</td>\n",
       "    </tr>\n",
       "    <tr>\n",
       "      <th>mean</th>\n",
       "      <td>38.500000</td>\n",
       "      <td>5.248213</td>\n",
       "    </tr>\n",
       "    <tr>\n",
       "      <th>std</th>\n",
       "      <td>12.267844</td>\n",
       "      <td>0.657702</td>\n",
       "    </tr>\n",
       "    <tr>\n",
       "      <th>min</th>\n",
       "      <td>18.000000</td>\n",
       "      <td>4.294118</td>\n",
       "    </tr>\n",
       "    <tr>\n",
       "      <th>25%</th>\n",
       "      <td>28.250000</td>\n",
       "      <td>4.732955</td>\n",
       "    </tr>\n",
       "    <tr>\n",
       "      <th>50%</th>\n",
       "      <td>38.500000</td>\n",
       "      <td>5.237179</td>\n",
       "    </tr>\n",
       "    <tr>\n",
       "      <th>75%</th>\n",
       "      <td>48.750000</td>\n",
       "      <td>5.554699</td>\n",
       "    </tr>\n",
       "    <tr>\n",
       "      <th>max</th>\n",
       "      <td>59.000000</td>\n",
       "      <td>6.870588</td>\n",
       "    </tr>\n",
       "  </tbody>\n",
       "</table>\n",
       "</div>"
      ],
      "text/plain": [
       "             Age  Screen On Time (hours/day)\n",
       "count  42.000000                   42.000000\n",
       "mean   38.500000                    5.248213\n",
       "std    12.267844                    0.657702\n",
       "min    18.000000                    4.294118\n",
       "25%    28.250000                    4.732955\n",
       "50%    38.500000                    5.237179\n",
       "75%    48.750000                    5.554699\n",
       "max    59.000000                    6.870588"
      ]
     },
     "execution_count": 24,
     "metadata": {},
     "output_type": "execute_result"
    }
   ],
   "source": [
    "# Calcular a média de idade de pessoas por tempo de tela\n",
    "age_screen_time_avg = df.groupby('Age')['Screen On Time (hours/day)'].mean().reset_index()\n",
    "age_screen_time_avg.describe()"
   ]
  },
  {
   "cell_type": "code",
   "execution_count": 95,
   "metadata": {},
   "outputs": [
    {
     "data": {
      "image/png": "[encoded data removed]",
      "text/plain": [
       "<Figure size 1000x600 with 1 Axes>"
      ]
     },
     "metadata": {},
     "output_type": "display_data"
    }
   ],
   "source": [
    "fig, ax = plt.subplots(figsize = (10, 6))\n",
    "ax.bar( # Configura o grafico de barras\n",
    "    age_screen_time_avg['Age'],\n",
    "    age_screen_time_avg['Screen On Time (hours/day)'],\n",
    "    color = ['#66b3ff', '#ff9999'],\n",
    "    width = 0.6\n",
    ")\n",
    "\n",
    "# Personalizar o gráfico\n",
    "plt.title(\"Tempo de tela médio por idade\")\n",
    "plt.xlabel(\"Idade\")\n",
    "plt.ylabel(\"Tempo de tela médio (horas/dia)\")\n",
    "ax.set_xlim([min(age_screen_time_avg['Age']) - 1, max(age_screen_time_avg['Age']) + 1])   # Ajusta o intervalo do eixo x\n",
    "ax.set_ylim([min(age_screen_time_avg['Screen On Time (hours/day)']) - 0.5, max(age_screen_time_avg['Screen On Time (hours/day)']) + 0.5])   # Ajusta o intervalo do eixo y\n",
    "plt.tight_layout()  # Ajusta o layout para evitar sobreposições\n",
    "\n",
    "plt.show()"
   ]
  },
  {
   "cell_type": "markdown",
   "metadata": {},
   "source": [
    "### Contagem de pessoas por idade"
   ]
  },
  {
   "cell_type": "code",
   "execution_count": 5,
   "metadata": {},
   "outputs": [
    {
     "data": {
      "text/plain": [
       "count    42.000000\n",
       "mean     16.666667\n",
       "std       4.141796\n",
       "min       9.000000\n",
       "25%      14.000000\n",
       "50%      17.000000\n",
       "75%      19.000000\n",
       "max      25.000000\n",
       "Name: count, dtype: float64"
      ]
     },
     "execution_count": 5,
     "metadata": {},
     "output_type": "execute_result"
    }
   ],
   "source": [
    "# Calcular a quantidade de pessoas por idade\n",
    "age_count = df['Age'].value_counts().sort_index()\n",
    "age_count.describe()"
   ]
  },
  {
   "cell_type": "code",
   "execution_count": 9,
   "metadata": {},
   "outputs": [
    {
     "data": {
      "image/png": "[encoded data removed]",
      "text/plain": [
       "<Figure size 1000x600 with 1 Axes>"
      ]
     },
     "metadata": {},
     "output_type": "display_data"
    }
   ],
   "source": [
    "fig, ax = plt.subplots(figsize = (10, 6))\n",
    "ax.bar( # Configura o grafico de barras\n",
    "    age_count.index,\n",
    "    age_count.values,\n",
    "    color = ['#18c0c4'],\n",
    "    width = 0.6\n",
    ")\n",
    "\n",
    "# Personaliza o gráfico\n",
    "plt.title(\"Contagem de pessoas por idade\")\n",
    "plt.xlabel(\"Idade\")\n",
    "plt.ylabel(\"Quantidade de pessoas\")\n",
    "ax.set_xlim([min(age_count.index) - 1, max(age_count.index) + 1]) # Ajusta o intervalo do eixo x\n",
    "plt.tight_layout()\n",
    "\n",
    "plt.show()"
   ]
  },
  {
   "cell_type": "markdown",
   "metadata": {},
   "source": [
    "### Tempo de tela médio por gênero"
   ]
  },
  {
   "cell_type": "code",
   "execution_count": 26,
   "metadata": {
    "colab": {
     "base_uri": "https://localhost:8080/",
     "height": 400
    },
    "id": "_wBJJeQomLJe",
    "outputId": "1e8ce2e4-ace4-44ed-b9db-7b6367145e5e"
   },
   "outputs": [
    {
     "data": {
      "text/html": [
       "<div>\n",
       "<style scoped>\n",
       "    .dataframe tbody tr th:only-of-type {\n",
       "        vertical-align: middle;\n",
       "    }\n",
       "\n",
       "    .dataframe tbody tr th {\n",
       "        vertical-align: top;\n",
       "    }\n",
       "\n",
       "    .dataframe thead th {\n",
       "        text-align: right;\n",
       "    }\n",
       "</style>\n",
       "<table border=\"1\" class=\"dataframe\">\n",
       "  <thead>\n",
       "    <tr style=\"text-align: right;\">\n",
       "      <th></th>\n",
       "      <th>Screen On Time (hours/day)</th>\n",
       "    </tr>\n",
       "  </thead>\n",
       "  <tbody>\n",
       "    <tr>\n",
       "      <th>count</th>\n",
       "      <td>2.000000</td>\n",
       "    </tr>\n",
       "    <tr>\n",
       "      <th>mean</th>\n",
       "      <td>5.272276</td>\n",
       "    </tr>\n",
       "    <tr>\n",
       "      <th>std</th>\n",
       "      <td>0.015508</td>\n",
       "    </tr>\n",
       "    <tr>\n",
       "      <th>min</th>\n",
       "      <td>5.261310</td>\n",
       "    </tr>\n",
       "    <tr>\n",
       "      <th>25%</th>\n",
       "      <td>5.266793</td>\n",
       "    </tr>\n",
       "    <tr>\n",
       "      <th>50%</th>\n",
       "      <td>5.272276</td>\n",
       "    </tr>\n",
       "    <tr>\n",
       "      <th>75%</th>\n",
       "      <td>5.277759</td>\n",
       "    </tr>\n",
       "    <tr>\n",
       "      <th>max</th>\n",
       "      <td>5.283242</td>\n",
       "    </tr>\n",
       "  </tbody>\n",
       "</table>\n",
       "</div>"
      ],
      "text/plain": [
       "       Screen On Time (hours/day)\n",
       "count                    2.000000\n",
       "mean                     5.272276\n",
       "std                      0.015508\n",
       "min                      5.261310\n",
       "25%                      5.266793\n",
       "50%                      5.272276\n",
       "75%                      5.277759\n",
       "max                      5.283242"
      ]
     },
     "execution_count": 26,
     "metadata": {},
     "output_type": "execute_result"
    }
   ],
   "source": [
    "# Calcular a média do tempo de tela por gênero\n",
    "gender_screen_time_avg = df.groupby('Gender')['Screen On Time (hours/day)'].mean().reset_index()\n",
    "gender_screen_time_avg.describe()"
   ]
  },
  {
   "cell_type": "code",
   "execution_count": 98,
   "metadata": {},
   "outputs": [
    {
     "data": {
      "image/png": "[encoded data removed]",
      "text/plain": [
       "<Figure size 1000x600 with 1 Axes>"
      ]
     },
     "metadata": {},
     "output_type": "display_data"
    }
   ],
   "source": [
    "fig, ax = plt.subplots(figsize = (10, 6))\n",
    "ax.bar( # Configura o grafico de barras\n",
    "    gender_screen_time_avg['Gender'],\n",
    "    gender_screen_time_avg['Screen On Time (hours/day)'],\n",
    "    color = ['#ff9999', '#66b3ff'],\n",
    "    width = 0.6\n",
    ")\n",
    "\n",
    "# Personalizar o gráfico\n",
    "plt.title(\"Tempo de tela médio por gênero\")\n",
    "plt.xlabel(\"Gênero\")\n",
    "plt.ylabel(\"Tela Ligada (Hora/dia)\")\n",
    "ax.set_ylim([min(gender_screen_time_avg['Screen On Time (hours/day)']) - 0.05, max(gender_screen_time_avg['Screen On Time (hours/day)']) + 0.05])   # Ajusta o intervalo do eixo y\n",
    "plt.tight_layout()  # Ajusta o layout para evitar sobreposições\n",
    "\n",
    "plt.show()"
   ]
  },
  {
   "cell_type": "markdown",
   "metadata": {},
   "source": [
    "### Tempo de tela médio por faixa etária"
   ]
  },
  {
   "cell_type": "code",
   "execution_count": 56,
   "metadata": {
    "colab": {
     "base_uri": "https://localhost:8080/",
     "height": 472
    },
    "id": "M7hewx8XmeEV",
    "outputId": "9d5ebc5d-cffe-420a-b56b-63ccc7cdc9c2"
   },
   "outputs": [],
   "source": [
    "# Configuração dos filtros de idade\n",
    "df_filtered_1 = df[df['Age'] <= 20]\n",
    "df_filtered_2 = df[(df['Age'] > 20) & (df['Age'] <= 30)]\n",
    "df_filtered_3 = df[(df['Age'] > 30) & (df['Age'] <= 40)]\n",
    "df_filtered_4 = df[(df['Age'] > 40) & (df['Age'] <= 50)]\n",
    "df_filtered_5 = df[(df['Age'] > 50)]"
   ]
  },
  {
   "cell_type": "code",
   "execution_count": 58,
   "metadata": {},
   "outputs": [],
   "source": [
    "# Calcular a média do tempo de tela para cada filtro de idade\n",
    "mean_filtered_1 = df_filtered_1['Screen On Time (hours/day)'].mean()\n",
    "mean_filtered_2 = df_filtered_2['Screen On Time (hours/day)'].mean()\n",
    "mean_filtered_3 = df_filtered_3['Screen On Time (hours/day)'].mean()\n",
    "mean_filtered_4 = df_filtered_4['Screen On Time (hours/day)'].mean()\n",
    "mean_filtered_5 = df_filtered_5['Screen On Time (hours/day)'].mean()"
   ]
  },
  {
   "cell_type": "code",
   "execution_count": 59,
   "metadata": {},
   "outputs": [
    {
     "data": {
      "image/png": "[encoded data removed]",
      "text/plain": [
       "<Figure size 1000x600 with 1 Axes>"
      ]
     },
     "metadata": {},
     "output_type": "display_data"
    }
   ],
   "source": [
    "# Definição dos eixos do gráfico\n",
    "x = ['[0 - 20]', '[21 - 30]', '[31 - 40]', '[41 - 50]', '50+']\n",
    "y = [\n",
    "    mean_filtered_1,\n",
    "    mean_filtered_2,\n",
    "    mean_filtered_3,\n",
    "    mean_filtered_4,\n",
    "    mean_filtered_5\n",
    "]\n",
    "y = [0 if pd.isna(val) else val for val in y]   # Substitui NaN por 0\n",
    "\n",
    "fig, ax = plt.subplots(figsize = (10, 6))\n",
    "ax.bar( # Configura o grafico de barras\n",
    "    x,\n",
    "    y,\n",
    "    color = ['#66b3ff', '#ff9999'],\n",
    "    width = 0.6\n",
    ")\n",
    "\n",
    "# Personalizar o gráfico\n",
    "plt.title('Tempo de tela médio por faixa etária')\n",
    "plt.xlabel('Faixa etária')\n",
    "plt.ylabel('Tempo de tela médio (horas/dia)')\n",
    "ax.set_ylim([min(y) - 0.1, max(y) + 0.1])   # Ajusta o intervalo do eixo y\n",
    "\n",
    "plt.show()"
   ]
  },
  {
   "cell_type": "markdown",
   "metadata": {},
   "source": [
    "### Distribuição de usuários por faixa etária"
   ]
  },
  {
   "cell_type": "code",
   "execution_count": 76,
   "metadata": {},
   "outputs": [
    {
     "data": {
      "text/plain": [
       "[40, 178, 168, 155, 159]"
      ]
     },
     "execution_count": 76,
     "metadata": {},
     "output_type": "execute_result"
    }
   ],
   "source": [
    "# Contagem de usuários por faixa etária\n",
    "counts = [\n",
    "    len(df_filtered_1),\n",
    "    len(df_filtered_2),\n",
    "    len(df_filtered_3),\n",
    "    len(df_filtered_4),\n",
    "    len(df_filtered_5)\n",
    "]\n",
    "counts = [0 if pd.isna(val) else val for val in counts]   # Substitui NaN por 0\n",
    "counts"
   ]
  },
  {
   "cell_type": "code",
   "execution_count": 67,
   "metadata": {},
   "outputs": [
    {
     "data": {
      "image/png": "[encoded data removed]",
      "text/plain": [
       "<Figure size 1000x600 with 1 Axes>"
      ]
     },
     "metadata": {},
     "output_type": "display_data"
    }
   ],
   "source": [
    "fig, ax = plt.subplots(figsize = (10, 6))\n",
    "wedeges, texts, autotexts = ax.pie( # Configura o gráfico de pizza\n",
    "    counts,\n",
    "    autopct = '%1.2f%%',\n",
    "    startangle = 90,\n",
    "    colors = [\"#ffb3b3\",\"#80b3ff\",\"#b3ffb3\",\"#ffb366\",\"#c2b3ff\"]\n",
    ")\n",
    "\n",
    "# Personalizar o gráfico\n",
    "ax.axis('equal')    # Corrige o formato para um círculo\n",
    "# Adicionar a legenda fora do gráfico\n",
    "ax.legend(\n",
    "    wedeges,    # Referência às fatias do gráfico\n",
    "    x,          # Texto da legenda\n",
    "    title = \"Faixas Etárias\",\n",
    "    loc = \"center left\",            # Localização da legenda\n",
    "    bbox_to_anchor=(1, 0, 0.5, 1)   # Ajusta a posição da legenda (fora do gráfico)\n",
    ")\n",
    "plt.title(\"Distribuição de usuários por faixa etária\")\n",
    "\n",
    "plt.show()"
   ]
  },
  {
   "cell_type": "markdown",
   "metadata": {},
   "source": [
    "### Distribuição de usuários por gênero"
   ]
  },
  {
   "cell_type": "code",
   "execution_count": 77,
   "metadata": {},
   "outputs": [
    {
     "data": {
      "text/plain": [
       "[364, 336]"
      ]
     },
     "execution_count": 77,
     "metadata": {},
     "output_type": "execute_result"
    }
   ],
   "source": [
    "# Configuração dos filtros de gênero\n",
    "df_gender_male = df[df['Gender'] == \"Male\"]\n",
    "df_gender_female = df[df['Gender'] == \"Female\"]\n",
    "\n",
    "labels = [\"Masculino\", \"Feminino\"]\n",
    "\n",
    "# Contagem de usuários por gênero\n",
    "counts = [\n",
    "    len(df_gender_male),\n",
    "    len(df_gender_female)\n",
    "]\n",
    "counts = [0 if pd.isna(val) else val for val in counts]   # Substitui NaN por 0\n",
    "counts"
   ]
  },
  {
   "cell_type": "code",
   "execution_count": 73,
   "metadata": {},
   "outputs": [
    {
     "data": {
      "image/png": "[encoded data removed]",
      "text/plain": [
       "<Figure size 1000x600 with 1 Axes>"
      ]
     },
     "metadata": {},
     "output_type": "display_data"
    }
   ],
   "source": [
    "fig, ax = plt.subplots(figsize = (10, 6))\n",
    "\n",
    "ax.pie( # Configura o gráfico de pizza\n",
    "    counts,\n",
    "    labels = labels,\n",
    "    autopct = '%1.2f%%',\n",
    "    startangle = 90,\n",
    "    colors = [\"#66b3ff\", \"#ff9999\"]\n",
    ")\n",
    "\n",
    "# Personalizar o gráfico\n",
    "ax.axis('equal')    # Corrige o formato para um círculo\n",
    "plt.title(\"Distribuição de usuários por gênero\")\n",
    "\n",
    "plt.show()"
   ]
  },
  {
   "cell_type": "markdown",
   "metadata": {},
   "source": [
    "### Média de aplicativos instalados por faixa etária"
   ]
  },
  {
   "cell_type": "code",
   "execution_count": 75,
   "metadata": {},
   "outputs": [],
   "source": [
    "# Calcular a média dos aplicativos instalados para cada filtro de idade\n",
    "mean_apps_1 = df_filtered_1['Number of Apps Installed'].mean()\n",
    "mean_apps_2 = df_filtered_2['Number of Apps Installed'].mean()\n",
    "mean_apps_3 = df_filtered_3['Number of Apps Installed'].mean()\n",
    "mean_apps_4 = df_filtered_4['Number of Apps Installed'].mean()\n",
    "mean_apps_5 = df_filtered_5['Number of Apps Installed'].mean()"
   ]
  },
  {
   "cell_type": "code",
   "execution_count": 83,
   "metadata": {},
   "outputs": [
    {
     "data": {
      "image/png": "[encoded data removed]",
      "text/plain": [
       "<Figure size 1000x600 with 1 Axes>"
      ]
     },
     "metadata": {},
     "output_type": "display_data"
    }
   ],
   "source": [
    "# Definição dos eixos do gráfico\n",
    "y = [\n",
    "    mean_apps_1,\n",
    "    mean_apps_2,\n",
    "    mean_apps_3,\n",
    "    mean_apps_4,\n",
    "    mean_apps_5\n",
    "]\n",
    "y = [0 if pd.isna(val) else val for val in y]   # Substitui NaN por 0\n",
    "\n",
    "fig, ax = plt.subplots(figsize = (10, 6))\n",
    "ax.bar( # Configura o grafico de barras\n",
    "    x,\n",
    "    y,\n",
    "    color = [\"#ffb3b3\",\"#80b3ff\",\"#b3ffb3\",\"#ffb366\",\"#c2b3ff\"],\n",
    "    width = 0.6\n",
    ")\n",
    "\n",
    "# Personalizar o gráfico\n",
    "plt.title('Média de aplicativos instalados por faixa etária')\n",
    "plt.xlabel('Faixa etária')\n",
    "plt.ylabel('Aplicativos instalados')\n",
    "ax.set_ylim([min(y) - 1, max(y) + 1])   # Ajusta o intervalo do eixo y\n",
    "\n",
    "plt.show()"
   ]
  }
 ],
 "metadata": {
  "colab": {
   "provenance": []
  },
  "kernelspec": {
   "display_name": "Python 3",
   "name": "python3"
  },
  "language_info": {
   "codemirror_mode": {
    "name": "ipython",
    "version": 3
   },
   "file_extension": ".py",
   "mimetype": "text/x-python",
   "name": "python",
   "nbconvert_exporter": "python",
   "pygments_lexer": "ipython3",
   "version": "3.13.0"
  }
 },
 "nbformat": 4,
 "nbformat_minor": 0
}
